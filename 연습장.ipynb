{
  "nbformat": 4,
  "nbformat_minor": 0,
  "metadata": {
    "colab": {
      "name": "연습장.ipynb",
      "provenance": [],
      "collapsed_sections": [],
      "authorship_tag": "ABX9TyNwC1p3yPOoVyv62cVfbxsG",
      "include_colab_link": true
    },
    "kernelspec": {
      "name": "python3",
      "display_name": "Python 3"
    }
  },
  "cells": [
    {
      "cell_type": "markdown",
      "metadata": {
        "id": "view-in-github",
        "colab_type": "text"
      },
      "source": [
        "<a href=\"https://colab.research.google.com/github/bingjun5249/python/blob/main/%EC%97%B0%EC%8A%B5%EC%9E%A5.ipynb\" target=\"_parent\"><img src=\"https://colab.research.google.com/assets/colab-badge.svg\" alt=\"Open In Colab\"/></a>"
      ]
    },
    {
      "cell_type": "code",
      "metadata": {
        "colab": {
          "base_uri": "https://localhost:8080/"
        },
        "id": "A3see0psVB_l",
        "outputId": "a628efda-2032-4447-ae02-3c4bc6daa315"
      },
      "source": [
        "a = 5\r\n",
        "b = 7\r\n",
        "print(*divmod(a, b))"
      ],
      "execution_count": null,
      "outputs": [
        {
          "output_type": "stream",
          "text": [
            "0 5\n"
          ],
          "name": "stdout"
        }
      ]
    },
    {
      "cell_type": "code",
      "metadata": {
        "colab": {
          "base_uri": "https://localhost:8080/"
        },
        "id": "PLETZKJLVPHT",
        "outputId": "d960ce1b-5397-4900-a2dd-51f6cdd75667"
      },
      "source": [
        "isinstance(\"a\", str)"
      ],
      "execution_count": null,
      "outputs": [
        {
          "output_type": "execute_result",
          "data": {
            "text/plain": [
              "True"
            ]
          },
          "metadata": {
            "tags": []
          },
          "execution_count": 9
        }
      ]
    },
    {
      "cell_type": "code",
      "metadata": {
        "colab": {
          "base_uri": "https://localhost:8080/"
        },
        "id": "tpH0o99FXKM4",
        "outputId": "1cf1fee4-2436-47ad-c4f1-cb6f221bda29"
      },
      "source": [
        "isinstance(4.6, float)"
      ],
      "execution_count": null,
      "outputs": [
        {
          "output_type": "execute_result",
          "data": {
            "text/plain": [
              "True"
            ]
          },
          "metadata": {
            "tags": []
          },
          "execution_count": 12
        }
      ]
    },
    {
      "cell_type": "code",
      "metadata": {
        "colab": {
          "base_uri": "https://localhost:8080/"
        },
        "id": "i17YaTSfVuvP",
        "outputId": "339b8b1f-e537-44db-fa8d-16b71e68410c"
      },
      "source": [
        "pow(2, 3, 4) # pow(x, y, z) x의 y승을 z로 나눈 나머지"
      ],
      "execution_count": null,
      "outputs": [
        {
          "output_type": "execute_result",
          "data": {
            "text/plain": [
              "0"
            ]
          },
          "metadata": {
            "tags": []
          },
          "execution_count": 11
        }
      ]
    },
    {
      "cell_type": "code",
      "metadata": {
        "colab": {
          "base_uri": "https://localhost:8080/"
        },
        "id": "4aDIecDkWGEm",
        "outputId": "98e460ea-ea6d-4817-f2d5-48e75e17439e"
      },
      "source": [
        "help(input)"
      ],
      "execution_count": null,
      "outputs": [
        {
          "output_type": "stream",
          "text": [
            "Help on method raw_input in module ipykernel.kernelbase:\n",
            "\n",
            "raw_input(prompt='') method of google.colab._kernel.Kernel instance\n",
            "    Forward raw_input to frontends\n",
            "    \n",
            "    Raises\n",
            "    ------\n",
            "    StdinNotImplentedError if active frontend doesn't support stdin.\n",
            "\n"
          ],
          "name": "stdout"
        }
      ]
    },
    {
      "cell_type": "code",
      "metadata": {
        "colab": {
          "base_uri": "https://localhost:8080/"
        },
        "id": "UaefhksrYHmo",
        "outputId": "3da266a1-4ea5-40ee-c012-22172585ad0b"
      },
      "source": [
        "a = int(input(\"정수를 입력 : \"))\r\n",
        "b = int(input(\"정수를 입력 : \"))\r\n",
        "\r\n",
        "if a > b:\r\n",
        "  print(a)\r\n",
        "else:\r\n",
        "  print(b)"
      ],
      "execution_count": null,
      "outputs": [
        {
          "output_type": "stream",
          "text": [
            "정수를 입력 : 5\n",
            "정수를 입력 : 3\n",
            "5\n"
          ],
          "name": "stdout"
        }
      ]
    },
    {
      "cell_type": "code",
      "metadata": {
        "colab": {
          "base_uri": "https://localhost:8080/"
        },
        "id": "t4A34dg4Yo-v",
        "outputId": "c947e41b-c88f-4ada-b69e-08fc1834ebc7"
      },
      "source": [
        "from math import *\r\n",
        "x = float(input(\"Enter a real number :\"))\r\n",
        "y = int(trunc(x))\r\n",
        "if (y % 2) == 0:\r\n",
        "  print(\"even\")\r\n",
        "else:\r\n",
        "  print(\"odd\")"
      ],
      "execution_count": null,
      "outputs": [
        {
          "output_type": "stream",
          "text": [
            "Enter a real number :-95999.36636\n",
            "odd\n"
          ],
          "name": "stdout"
        }
      ]
    },
    {
      "cell_type": "code",
      "metadata": {
        "id": "RFeI5jdRfedt"
      },
      "source": [
        "def printMsg(msg):\r\n",
        "  \"\"\" The function prints the message supplied by the user or prints that msg is not in the form of string\"\"\"\r\n",
        "\r\n",
        "  if isinstance(msg, str):\r\n",
        "    print(msg)\r\n",
        "  else:\r\n",
        "    print(\"Your input argument is not a string\")\r\n",
        "    print(\"here is the type of what you have supplied :\", type(msg))"
      ],
      "execution_count": null,
      "outputs": []
    },
    {
      "cell_type": "code",
      "metadata": {
        "colab": {
          "base_uri": "https://localhost:8080/"
        },
        "id": "RwubaMXMf-nj",
        "outputId": "f920f482-987f-49f7-ada6-b803cc396a70"
      },
      "source": [
        "help(printMsg)"
      ],
      "execution_count": null,
      "outputs": [
        {
          "output_type": "stream",
          "text": [
            "Help on function printMsg in module __main__:\n",
            "\n",
            "printMsg(msg)\n",
            "    The function prints the message supplied by the user or prints that msg is not in the form of string\n",
            "\n"
          ],
          "name": "stdout"
        }
      ]
    },
    {
      "cell_type": "code",
      "metadata": {
        "id": "GaAcj0ZggBgo"
      },
      "source": [
        "printMsg??"
      ],
      "execution_count": null,
      "outputs": []
    },
    {
      "cell_type": "code",
      "metadata": {
        "colab": {
          "base_uri": "https://localhost:8080/"
        },
        "id": "kljE7mYDgFsZ",
        "outputId": "2d715f00-bd03-43f3-f6a7-b4890647aba2"
      },
      "source": [
        "printMsg(\"This is the message\")"
      ],
      "execution_count": null,
      "outputs": [
        {
          "output_type": "stream",
          "text": [
            "This is the message\n"
          ],
          "name": "stdout"
        }
      ]
    },
    {
      "cell_type": "code",
      "metadata": {
        "colab": {
          "base_uri": "https://localhost:8080/"
        },
        "id": "AJlR3M6ugMiX",
        "outputId": "8a8725af-02e4-4771-86fd-597cbb4d5545"
      },
      "source": [
        "printMsg(23)"
      ],
      "execution_count": null,
      "outputs": [
        {
          "output_type": "stream",
          "text": [
            "Your input argument is not a string\n",
            "here is the type of what you have supplied : <class 'int'>\n"
          ],
          "name": "stdout"
        }
      ]
    },
    {
      "cell_type": "code",
      "metadata": {
        "colab": {
          "base_uri": "https://localhost:8080/"
        },
        "id": "ZqtkyTX3gPe4",
        "outputId": "c978b85c-f4a2-4d8f-98db-9915d679858d"
      },
      "source": [
        "y = \"Hello there\"\r\n",
        "printMsg(y)"
      ],
      "execution_count": null,
      "outputs": [
        {
          "output_type": "stream",
          "text": [
            "Hello there\n"
          ],
          "name": "stdout"
        }
      ]
    },
    {
      "cell_type": "code",
      "metadata": {
        "id": "gmTh_CoDgrgX"
      },
      "source": [
        "def f(a, b, c):\r\n",
        "  print(\"A is :\", a)\r\n",
        "  print(\"B is :\", b)\r\n",
        "  print(\"C is :\", c)"
      ],
      "execution_count": null,
      "outputs": []
    },
    {
      "cell_type": "code",
      "metadata": {
        "colab": {
          "base_uri": "https://localhost:8080/"
        },
        "id": "CvxJuaaLjy-z",
        "outputId": "082df082-01a0-4501-f53b-d42c2373c070"
      },
      "source": [
        "f(2, 3, \"game\")"
      ],
      "execution_count": null,
      "outputs": [
        {
          "output_type": "stream",
          "text": [
            "A is : 2\n",
            "B is : 3\n",
            "C is : game\n"
          ],
          "name": "stdout"
        }
      ]
    },
    {
      "cell_type": "code",
      "metadata": {
        "id": "6ja5rZ-jj2op"
      },
      "source": [
        "def gg(s=4):\r\n",
        "  print(s)"
      ],
      "execution_count": null,
      "outputs": []
    },
    {
      "cell_type": "code",
      "metadata": {
        "colab": {
          "base_uri": "https://localhost:8080/"
        },
        "id": "1aaH6ALxSB9k",
        "outputId": "1d3034af-dd2a-442e-cb57-4eef581c82e9"
      },
      "source": [
        "gg()"
      ],
      "execution_count": null,
      "outputs": [
        {
          "output_type": "stream",
          "text": [
            "4\n"
          ],
          "name": "stdout"
        }
      ]
    },
    {
      "cell_type": "code",
      "metadata": {
        "colab": {
          "base_uri": "https://localhost:8080/"
        },
        "id": "s5iRkNZFSGWR",
        "outputId": "4a70737a-5c77-49b0-dc7e-913d6d5eef64"
      },
      "source": [
        "L = [1, 2, 3]\r\n",
        "L2 = L\r\n",
        "L2[0] = -9\r\n",
        "print(L)"
      ],
      "execution_count": null,
      "outputs": [
        {
          "output_type": "stream",
          "text": [
            "[-9, 2, 3]\n"
          ],
          "name": "stdout"
        }
      ]
    },
    {
      "cell_type": "code",
      "metadata": {
        "id": "9nanWmuWSNax"
      },
      "source": [
        "def ff(L=[1, 2]):\r\n",
        "  for i in L:\r\n",
        "    print(i)"
      ],
      "execution_count": null,
      "outputs": []
    },
    {
      "cell_type": "code",
      "metadata": {
        "colab": {
          "base_uri": "https://localhost:8080/"
        },
        "id": "2slSY11oSchQ",
        "outputId": "2a2ed763-ea91-4e61-cf18-4fa5220354e1"
      },
      "source": [
        "L2 = [12, 3, 4]\r\n",
        "ff()"
      ],
      "execution_count": null,
      "outputs": [
        {
          "output_type": "stream",
          "text": [
            "1\n",
            "2\n"
          ],
          "name": "stdout"
        }
      ]
    },
    {
      "cell_type": "code",
      "metadata": {
        "colab": {
          "base_uri": "https://localhost:8080/"
        },
        "id": "XMtdbO0nSiCA",
        "outputId": "7474cdca-cd6d-4a0d-dea4-b7bfc2d6717f"
      },
      "source": [
        "ff(L2)"
      ],
      "execution_count": null,
      "outputs": [
        {
          "output_type": "stream",
          "text": [
            "12\n",
            "3\n",
            "4\n"
          ],
          "name": "stdout"
        }
      ]
    },
    {
      "cell_type": "code",
      "metadata": {
        "colab": {
          "base_uri": "https://localhost:8080/"
        },
        "id": "qXDuoDVxT8mj",
        "outputId": "e9d5bb4a-742a-4f4f-a8d6-26c10ec69355"
      },
      "source": [
        "ff()"
      ],
      "execution_count": null,
      "outputs": [
        {
          "output_type": "stream",
          "text": [
            "1\n",
            "2\n"
          ],
          "name": "stdout"
        }
      ]
    },
    {
      "cell_type": "code",
      "metadata": {
        "colab": {
          "base_uri": "https://localhost:8080/"
        },
        "id": "JaftUgVNacjo",
        "outputId": "66cd4013-9c31-4deb-e626-c181fb5173ed"
      },
      "source": [
        "from google.colab import drive\r\n",
        "drive.mount('/content/drive')"
      ],
      "execution_count": null,
      "outputs": [
        {
          "output_type": "stream",
          "text": [
            "Mounted at /content/drive\n"
          ],
          "name": "stdout"
        }
      ]
    },
    {
      "cell_type": "code",
      "metadata": {
        "id": "TbRXjDkfT-cD"
      },
      "source": [
        "import sys\r\n",
        "sys.path.append('/content/drive/MyDrive/')"
      ],
      "execution_count": null,
      "outputs": []
    },
    {
      "cell_type": "code",
      "metadata": {
        "colab": {
          "base_uri": "https://localhost:8080/"
        },
        "id": "lVbYurN8ghKx",
        "outputId": "eb3aab97-2be6-4e8d-e83c-7a614932ee69"
      },
      "source": [
        "print(sys.path)"
      ],
      "execution_count": null,
      "outputs": [
        {
          "output_type": "stream",
          "text": [
            "['', '/env/python', '/usr/lib/python36.zip', '/usr/lib/python3.6', '/usr/lib/python3.6/lib-dynload', '/usr/local/lib/python3.6/dist-packages', '/usr/lib/python3/dist-packages', '/usr/local/lib/python3.6/dist-packages/IPython/extensions', '/root/.ipython', '/content/drive/MyDrive/']\n"
          ],
          "name": "stdout"
        }
      ]
    },
    {
      "cell_type": "code",
      "metadata": {
        "colab": {
          "base_uri": "https://localhost:8080/"
        },
        "id": "nz_ila_-tVgo",
        "outputId": "130ef5ae-0b35-4dfd-c5e3-b2c6453cf515"
      },
      "source": [
        "#open('my_universal_functions.py', 'wb')"
      ],
      "execution_count": null,
      "outputs": [
        {
          "output_type": "execute_result",
          "data": {
            "text/plain": [
              "<_io.BufferedWriter name='my_universal_functions.py'>"
            ]
          },
          "metadata": {
            "tags": []
          },
          "execution_count": 16
        }
      ]
    },
    {
      "cell_type": "code",
      "metadata": {
        "id": "KqU9VzwIYixI",
        "colab": {
          "base_uri": "https://localhost:8080/",
          "height": 316
        },
        "outputId": "38b431e3-2ccc-4987-e831-5473e89b46b7"
      },
      "source": [
        "import my_universal_functions.ipynb as myfs"
      ],
      "execution_count": null,
      "outputs": [
        {
          "output_type": "error",
          "ename": "ModuleNotFoundError",
          "evalue": "ignored",
          "traceback": [
            "\u001b[0;31m---------------------------------------------------------------------------\u001b[0m",
            "\u001b[0;31mModuleNotFoundError\u001b[0m                       Traceback (most recent call last)",
            "\u001b[0;32m<ipython-input-5-6229888ce308>\u001b[0m in \u001b[0;36m<module>\u001b[0;34m()\u001b[0m\n\u001b[0;32m----> 1\u001b[0;31m \u001b[0;32mimport\u001b[0m \u001b[0mmy_universal_functions\u001b[0m\u001b[0;34m.\u001b[0m\u001b[0mipynb\u001b[0m \u001b[0;32mas\u001b[0m \u001b[0mmyfs\u001b[0m\u001b[0;34m\u001b[0m\u001b[0;34m\u001b[0m\u001b[0m\n\u001b[0m",
            "\u001b[0;31mModuleNotFoundError\u001b[0m: No module named 'my_universal_functions'",
            "",
            "\u001b[0;31m---------------------------------------------------------------------------\u001b[0;32m\nNOTE: If your import is failing due to a missing package, you can\nmanually install dependencies using either !pip or !apt.\n\nTo view examples of installing some common dependencies, click the\n\"Open Examples\" button below.\n\u001b[0;31m---------------------------------------------------------------------------\u001b[0m\n"
          ]
        }
      ]
    },
    {
      "cell_type": "code",
      "metadata": {
        "id": "vB0vW38FYpWG",
        "colab": {
          "base_uri": "https://localhost:8080/"
        },
        "outputId": "4fabdfac-a5cc-48f0-f152-ae1ecc611db2"
      },
      "source": [
        "myfs.addAllNumerics??"
      ],
      "execution_count": null,
      "outputs": [
        {
          "output_type": "stream",
          "text": [
            "Object `myfs.addAllNumerics` not found.\n"
          ],
          "name": "stdout"
        }
      ]
    },
    {
      "cell_type": "code",
      "metadata": {
        "colab": {
          "base_uri": "https://localhost:8080/",
          "height": 172
        },
        "id": "CyrPhhuiuqGk",
        "outputId": "827b468d-6fe8-44a7-ccc8-ca9c697dbc81"
      },
      "source": [
        "c = myfs.addAllNumerics(2,3,4,6)"
      ],
      "execution_count": null,
      "outputs": [
        {
          "output_type": "error",
          "ename": "AttributeError",
          "evalue": "ignored",
          "traceback": [
            "\u001b[0;31m---------------------------------------------------------------------------\u001b[0m",
            "\u001b[0;31mAttributeError\u001b[0m                            Traceback (most recent call last)",
            "\u001b[0;32m<ipython-input-7-93c88d8fcd95>\u001b[0m in \u001b[0;36m<module>\u001b[0;34m()\u001b[0m\n\u001b[0;32m----> 1\u001b[0;31m \u001b[0mc\u001b[0m \u001b[0;34m=\u001b[0m \u001b[0mmyfs\u001b[0m\u001b[0;34m.\u001b[0m\u001b[0maddAllNumerics\u001b[0m\u001b[0;34m(\u001b[0m\u001b[0;36m2\u001b[0m\u001b[0;34m,\u001b[0m\u001b[0;36m3\u001b[0m\u001b[0;34m,\u001b[0m\u001b[0;36m4\u001b[0m\u001b[0;34m,\u001b[0m\u001b[0;36m6\u001b[0m\u001b[0;34m)\u001b[0m\u001b[0;34m\u001b[0m\u001b[0;34m\u001b[0m\u001b[0m\n\u001b[0m",
            "\u001b[0;31mAttributeError\u001b[0m: module 'my_universal_functions' has no attribute 'addAllNumerics'"
          ]
        }
      ]
    },
    {
      "cell_type": "code",
      "metadata": {
        "id": "vfhALnE8u4Ur"
      },
      "source": [
        ""
      ],
      "execution_count": null,
      "outputs": []
    }
  ]
}